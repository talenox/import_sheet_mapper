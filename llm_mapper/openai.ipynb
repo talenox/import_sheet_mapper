{
 "cells": [
  {
   "cell_type": "code",
   "execution_count": null,
   "metadata": {},
   "outputs": [],
   "source": [
    "%pip install openai\n",
    "%pip install python-dotenv\n",
    "%pip install pandas"
   ]
  },
  {
   "cell_type": "markdown",
   "metadata": {},
   "source": [
    "### Setup"
   ]
  },
  {
   "cell_type": "code",
   "execution_count": 2,
   "metadata": {},
   "outputs": [],
   "source": [
    "from openai import OpenAI\n",
    "from dotenv import load_dotenv\n",
    "import os\n",
    "import pandas as pd\n",
    "\n",
    "# Load environment variables from .env file\n",
    "load_dotenv()\n",
    "\n",
    "# Reference the OpenAI API key from the environment variables\n",
    "client = OpenAI(\n",
    "  # This is the default and can be omitted\n",
    "  api_key=os.environ.get(\"OPENAI_API_KEY\"),\n",
    ")"
   ]
  },
  {
   "cell_type": "code",
   "execution_count": 8,
   "metadata": {},
   "outputs": [
    {
     "data": {
      "text/plain": [
       "['Employee ID',\n",
       " 'First Name',\n",
       " 'Last Name',\n",
       " 'Nickname',\n",
       " 'Chinese Name',\n",
       " 'Email',\n",
       " 'Invite User',\n",
       " 'User Email (if different from employee email)',\n",
       " 'Access Role',\n",
       " 'My Profile Module']"
      ]
     },
     "execution_count": 8,
     "metadata": {},
     "output_type": "execute_result"
    }
   ],
   "source": [
    "# Function to read the CSV file and extract headers\n",
    "def read_csv_headers(file_path):\n",
    "    df = pd.read_csv(file_path, nrows=0)  # Read only the header row\n",
    "    headers = df.columns.tolist()\n",
    "    return headers\n",
    "\n",
    "headers = read_csv_headers(\"../column_headers/2024-05-21/global.csv\")\n",
    "headers = headers[:10]\n",
    "headers"
   ]
  },
  {
   "cell_type": "code",
   "execution_count": 11,
   "metadata": {},
   "outputs": [
    {
     "data": {
      "text/plain": [
       "'The CSV file contains the following columns:\\nEmployee ID, First Name, Last Name, Nickname, Chinese Name, Email, Invite User, User Email (if different from employee email), Access Role, My Profile Module\\n\\nPlease provide a summary or description of these columns.'"
      ]
     },
     "execution_count": 11,
     "metadata": {},
     "output_type": "execute_result"
    }
   ],
   "source": [
    "def create_summary_prompt(headers):\n",
    "    summary_prompt = \"The CSV file contains the following columns:\\n\"\n",
    "    summary_prompt += \", \".join(headers) + \"\\n\\n\"\n",
    "    summary_prompt += \"Please provide a summary or description of these columns.\"\n",
    "    return summary_prompt\n",
    "\n",
    "# Create the summary prompt\n",
    "prompt = create_summary_prompt(headers)\n",
    "prompt"
   ]
  },
  {
   "cell_type": "code",
   "execution_count": 17,
   "metadata": {},
   "outputs": [
    {
     "name": "stdout",
     "output_type": "stream",
     "text": [
      "Summary of the CSV columns:\n",
      "1. Employee ID: A unique identifier for each employee in the organization.\n",
      "2. First Name: The given or preferred name of the employee.\n",
      "3. Last Name: The family or surname of the employee.\n",
      "4. Nickname: A shortened or alternative name that an employee may go by.\n",
      "5. Chinese Name: The employee's name written in Chinese characters.\n",
      "6. Email: The primary email address of the employee.\n",
      "7. Invite User: A field indicating whether the employee has been invited to use a specific platform or software.\n",
      "8. User Email: An alternative email address for the employee, if different from their primary one.\n",
      "9. Access Role: The level of access or permissions granted to the employee within a system or organization.\n",
      "10. My Profile Module: A section or feature within a program or platform where the employee can update and manage their personal information.\n"
     ]
    }
   ],
   "source": [
    "def get_summary(prompt):\n",
    "    response = client.chat.completions.create(\n",
    "      messages=[\n",
    "        {\n",
    "          \"role\": \"user\",\n",
    "          \"content\": prompt,\n",
    "        }\n",
    "      ],\n",
    "      model=\"gpt-3.5-turbo\",\n",
    "    )\n",
    "    return response.choices[0].message.content\n",
    "\n",
    "# Get the summary from the model\n",
    "summary = get_summary(prompt)\n",
    "# summary = ChatCompletion(id='chatcmpl-9Tlnb7OGaptMWxQ2zzeerYu0rKmv3', choices=[Choice(finish_reason='stop', index=0, logprobs=None, message=ChatCompletionMessage(content=\"- Employee ID: A unique identifier for each employee\\n- First Name: The first name of the employee\\n- Last Name: The last name of the employee\\n- Nickname: A shortened or informal name that the employee may go by\\n- Chinese Name: The employee's name in Chinese characters\\n- Email: The employee's email address\\n- Invite User: Indicates whether the employee has been invited to access a system or platform\\n- User Email: The email address of the user, if different from the employee's email\\n- Access Role: The level of access and permissions granted to the employee within a system or platform\\n- My Profile Module: The specific module or section within a system where the employee can view and edit their personal profile information\", role='assistant', function_call=None, tool_calls=None))], created=1716882279, model='gpt-3.5-turbo-0125', object='chat.completion', system_fingerprint=None, usage=CompletionUsage(completion_tokens=151, prompt_tokens=61, total_tokens=212))\n",
    "print(\"Summary of the CSV columns:\")\n",
    "print(summary)\n"
   ]
  }
 ],
 "metadata": {
  "kernelspec": {
   "display_name": "Python 3",
   "language": "python",
   "name": "python3"
  },
  "language_info": {
   "codemirror_mode": {
    "name": "ipython",
    "version": 3
   },
   "file_extension": ".py",
   "mimetype": "text/x-python",
   "name": "python",
   "nbconvert_exporter": "python",
   "pygments_lexer": "ipython3",
   "version": "3.8.2"
  }
 },
 "nbformat": 4,
 "nbformat_minor": 2
}
