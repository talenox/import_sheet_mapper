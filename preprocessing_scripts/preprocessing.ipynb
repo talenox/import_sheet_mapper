{
 "cells": [
  {
   "cell_type": "code",
   "execution_count": null,
   "metadata": {},
   "outputs": [],
   "source": [
    "# Install pandas if you haven't\n",
    "%pip install pandas\n",
    "%pip install openpyxl"
   ]
  },
  {
   "cell_type": "code",
   "execution_count": null,
   "metadata": {},
   "outputs": [],
   "source": [
    "import pandas as pd\n",
    "\n",
    "# Read the Excel file\n",
    "def read_excel_sample(file_path, sheet_name=0, max_rows=10):\n",
    "    # Read the entire Excel file\n",
    "    df = pd.read_excel(file_path, sheet_name=sheet_name, skiprows=2)\n",
    "    # Extract the header rows\n",
    "    headers = df.columns.tolist()\n",
    "    # Sample a maximum of 10 rows\n",
    "    sampled_df = df.sample(n=min(max_rows, len(df)), random_state=1)\n",
    "    # Combine headers with sampled data\n",
    "    result_df = pd.DataFrame(sampled_df, columns=headers)\n",
    "\n",
    "    return result_df\n",
    "\n",
    "def write_to_csv(result_df, output_path='sampled_output.csv'):\n",
    "    result_df.to_csv(output_path, index=False)\n",
    "    "
   ]
  },
  {
   "cell_type": "code",
   "execution_count": null,
   "metadata": {},
   "outputs": [],
   "source": [
    "# # Example usage\n",
    "# file_path = '../sample_data/profiles-employees-export-Talenox_SG_Demo-20240521032617.xlsx'\n",
    "# sampled_df = read_excel_sample(file_path, max_rows=0)\n",
    "# write_to_csv(sampled_df)\n",
    "\n",
    "# print(sampled_df)"
   ]
  },
  {
   "cell_type": "code",
   "execution_count": null,
   "metadata": {},
   "outputs": [],
   "source": []
  }
 ],
 "metadata": {
  "language_info": {
   "name": "python"
  }
 },
 "nbformat": 4,
 "nbformat_minor": 2
}
