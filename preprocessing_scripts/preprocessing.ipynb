{
 "cells": [
  {
   "cell_type": "code",
   "execution_count": null,
   "metadata": {},
   "outputs": [],
   "source": [
    "# Install pandas if you haven't\n",
    "%pip install pandas\n",
    "%pip install openpyxl"
   ]
  },
  {
   "cell_type": "code",
   "execution_count": null,
   "metadata": {},
   "outputs": [],
   "source": [
    "import pandas as pd\n",
    "\n",
    "# Read the Excel file\n",
    "def read_excel_sample(file_path, sheet_name=0, max_rows=10):\n",
    "    # Read the entire Excel file\n",
    "    df = pd.read_excel(file_path, sheet_name=sheet_name, skiprows=2)\n",
    "    # Extract the header rows\n",
    "    headers = df.columns.tolist()\n",
    "    # Sample a maximum of 10 rows\n",
    "    sampled_df = df.sample(n=min(max_rows, len(df)), random_state=1)\n",
    "    # Combine headers with sampled data\n",
    "    result_df = pd.DataFrame(sampled_df, columns=headers)\n",
    "\n",
    "    return result_df\n",
    "\n",
    "def write_to_csv(result_df, output_path='sampled_output.csv'):\n",
    "    result_df.to_csv(output_path, index=False)\n",
    "    "
   ]
  },
  {
   "cell_type": "code",
   "execution_count": null,
   "metadata": {},
   "outputs": [],
   "source": [
    "# # Example usage\n",
    "# file_path = '../sample_data/profiles-employees-export-Talenox_SG_Demo-20240521032617.xlsx'\n",
    "# sampled_df = read_excel_sample(file_path, max_rows=0)\n",
    "# write_to_csv(sampled_df)\n",
    "\n",
    "# print(sampled_df)"
   ]
  },
  {
   "cell_type": "code",
   "execution_count": null,
   "metadata": {},
   "outputs": [],
   "source": [
    "# Pull the latest version of excel attributes for the specified country\n",
    "import os\n",
    "from datetime import datetime\n",
    "\n",
    "def latest_version(country=\"global\"):\n",
    "    # Define the directory path\n",
    "    directory_path = \"../column_headers\"\n",
    "    # Get a list of directories (dates)\n",
    "    dates = [entry for entry in os.listdir(directory_path) if os.path.isdir(os.path.join(directory_path, entry))]\n",
    "    # Parse dates into datetime objects\n",
    "    parsed_dates = [datetime.strptime(date, \"%Y-%m-%d\") for date in dates]\n",
    "    # Identify the latest date\n",
    "    latest_date = max(parsed_dates)\n",
    "    # Find the directory corresponding to the latest date\n",
    "    latest_directory = latest_date.strftime(\"%Y-%m-%d\")\n",
    "\n",
    "    # Access the contents of the latest directory\n",
    "    latest_contents_path = os.path.join(directory_path, latest_directory)\n",
    "    latest_contents = os.listdir(latest_contents_path)\n",
    "\n",
    "    return latest_contents_path, latest_contents\n",
    "\n",
    "# Example usage:\n",
    "latest_contents_path, latest_contents = latest_version()\n",
    "print(f\"Latest version contents in {latest_contents_path}:\", latest_contents)"
   ]
  }
 ],
 "metadata": {
  "language_info": {
   "name": "python"
  }
 },
 "nbformat": 4,
 "nbformat_minor": 2
}
