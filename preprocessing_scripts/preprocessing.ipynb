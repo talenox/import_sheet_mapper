{
 "cells": [
  {
   "cell_type": "code",
   "execution_count": 1,
   "metadata": {},
   "outputs": [
    {
     "name": "stdout",
     "output_type": "stream",
     "text": [
      "Defaulting to user installation because normal site-packages is not writeable\n",
      "Requirement already satisfied: pandas in /Users/joshuajong/Library/Python/3.8/lib/python/site-packages (2.0.3)\n",
      "Requirement already satisfied: python-dateutil>=2.8.2 in /Users/joshuajong/Library/Python/3.8/lib/python/site-packages (from pandas) (2.8.2)\n",
      "Requirement already satisfied: pytz>=2020.1 in /Users/joshuajong/Library/Python/3.8/lib/python/site-packages (from pandas) (2023.3.post1)\n",
      "Requirement already satisfied: tzdata>=2022.1 in /Users/joshuajong/Library/Python/3.8/lib/python/site-packages (from pandas) (2023.3)\n",
      "Requirement already satisfied: numpy>=1.20.3 in /Users/joshuajong/Library/Python/3.8/lib/python/site-packages (from pandas) (1.24.4)\n",
      "Requirement already satisfied: six>=1.5 in /Users/joshuajong/Library/Python/3.8/lib/python/site-packages (from python-dateutil>=2.8.2->pandas) (1.15.0)\n",
      "Note: you may need to restart the kernel to use updated packages.\n",
      "Defaulting to user installation because normal site-packages is not writeable\n",
      "Requirement already satisfied: openpyxl in /Users/joshuajong/Library/Python/3.8/lib/python/site-packages (3.1.2)\n",
      "Requirement already satisfied: et-xmlfile in /Users/joshuajong/Library/Python/3.8/lib/python/site-packages (from openpyxl) (1.1.0)\n",
      "Note: you may need to restart the kernel to use updated packages.\n"
     ]
    }
   ],
   "source": [
    "# Install pandas if you haven't\n",
    "%pip install pandas\n",
    "%pip install openpyxl"
   ]
  },
  {
   "cell_type": "code",
   "execution_count": 2,
   "metadata": {},
   "outputs": [],
   "source": [
    "import pandas as pd\n",
    "\n",
    "# Read the Excel file\n",
    "def read_excel_sample(file_path, sheet_name=0, max_rows=10):\n",
    "    # Read the entire Excel file\n",
    "    df = pd.read_excel(file_path, sheet_name=sheet_name, skiprows=2)\n",
    "    # Extract the header rows\n",
    "    headers = df.columns.tolist()\n",
    "    # Sample a maximum of 10 rows\n",
    "    sampled_df = df.sample(n=min(max_rows, len(df)), random_state=1)\n",
    "    # Combine headers with sampled data\n",
    "    result_df = pd.DataFrame(sampled_df, columns=headers)\n",
    "\n",
    "    return result_df\n",
    "\n",
    "def write_to_csv(result_df, output_path='sampled_output.csv'):\n",
    "    result_df.to_csv(output_path, index=False)\n",
    "    "
   ]
  },
  {
   "cell_type": "code",
   "execution_count": 3,
   "metadata": {},
   "outputs": [
    {
     "name": "stdout",
     "output_type": "stream",
     "text": [
      "Empty DataFrame\n",
      "Columns: [Employee ID, First Name*, Last Name*, Nickname, Chinese Name, Email, Invite User*, User Email (if different from employee email), Access Role, My Profile Module, Payslip Module, Tax Module, Leave Module, Payroll Module, Profile Module, Claims Module (User), Claims Module (Admin), Birth Date (DD/MM/YYYY)*, Gender, Marital Status, Identification No*, Immigration Status*, PR Status, PR Effective Date (DD/MM/YYYY), PR Expiry Date (DD/MM/YYYY), S Pass Issue Date (DD/MM/YYYY), S Pass Expiry Date (DD/MM/YYYY), S Pass Dependency Ceiling, E Pass Issue Date (DD/MM/YYYY), E Pass Expiry Date (DD/MM/YYYY), Letter of Consent Issue Date (DD/MM/YYYY), Letter of Consent Expiry Date (DD/MM/YYYY), Personalised Employment Pass Issue Date (DD/MM/YYYY), Personalised Employment Pass Expiry Date (DD/MM/YYYY), Work Pass Number, Work Pass Issue Date (DD/MM/YYYY), Work Pass Expiry Date (DD/MM/YYYY), Work Pass Dependency Ceiling, Work Pass Worker Category, Tech Pass Issue Date (DD/MM/YYYY), Tech Pass Expiry Date (DD/MM/YYYY), ONE Pass Issue Date (DD/MM/YYYY), ONE Pass Expiry Date (DD/MM/YYYY), Training Employment Pass Issue Date (DD/MM/YYYY), Training Employment Pass Expiry Date (DD/MM/YYYY), Training Work Permit Issue Date (DD/MM/YYYY), Training Work Permit Expiry Date (DD/MM/YYYY), Passport No, Passport Date of Issue (DD/MM/YYYY), Passport Date of Expiry (DD/MM/YYYY), Passport Place of Issue, Nationality, Race, Religion, Job Title, Hired Date (DD/MM/YYYY)*, Job Start Date (DD/MM/YYYY), Department, Location/Branch, Default Cost Centre, Role, Confirmation Date (DD/MM/YYYY), Working Day*, Working Hour*, Rate of Pay*, Currency of Salary*, Basic Salary*, Designation in Accounting Software, Job Remarks, Resign Date (DD/MM/YYYY), Payment Method*, Bank Type, Bank Account Holders Name, Bank Account No., Bank Branch No., SHG Automation*, SHG Contribution*, Additional SHG Contribution*, Contact Number, Office Direct Inward Dialing (DID) Number, Address Line 1, Address Line 2, Country, Region, Subregion, Postal Code, Next of Kins Name, Next of Kins Nationality, Next of Kins Gender, Next of Kins Birth Date (DD/MM/YYYY), Next of Kins Identification No., Next of Kins Passport No., Next of Kins Relationship, Next of Kins Marriage Date (Spouse) (DD/MM/YYYY), Next of Kins Contact No., Covid-19 Vaccination Status, Covid-19 Vaccine Brand, Date of 1st Dose (DD/MM/YYYY), Date of 2nd Dose (DD/MM/YYYY), Covid-19 Vaccine Booster Brand, ...]\n",
      "Index: []\n",
      "\n",
      "[0 rows x 108 columns]\n"
     ]
    },
    {
     "name": "stderr",
     "output_type": "stream",
     "text": [
      "/Users/joshuajong/Library/Python/3.8/lib/python/site-packages/openpyxl/worksheet/_reader.py:329: UserWarning: Data Validation extension is not supported and will be removed\n",
      "  warn(msg)\n"
     ]
    }
   ],
   "source": [
    "# Example usage\n",
    "file_path = '../sample_data/sample_employee_import_sheet.xlsx'\n",
    "sampled_df = read_excel_sample(file_path, max_rows=10)\n",
    "write_to_csv(sampled_df)\n",
    "\n",
    "print(sampled_df)"
   ]
  },
  {
   "cell_type": "code",
   "execution_count": null,
   "metadata": {},
   "outputs": [],
   "source": []
  }
 ],
 "metadata": {
  "kernelspec": {
   "display_name": "Python 3",
   "language": "python",
   "name": "python3"
  },
  "language_info": {
   "codemirror_mode": {
    "name": "ipython",
    "version": 3
   },
   "file_extension": ".py",
   "mimetype": "text/x-python",
   "name": "python",
   "nbconvert_exporter": "python",
   "pygments_lexer": "ipython3",
   "version": "3.8.2"
  }
 },
 "nbformat": 4,
 "nbformat_minor": 2
}
